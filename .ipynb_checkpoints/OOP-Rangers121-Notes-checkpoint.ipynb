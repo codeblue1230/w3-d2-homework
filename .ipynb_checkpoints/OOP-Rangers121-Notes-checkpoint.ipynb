{
 "cells": [
  {
   "cell_type": "markdown",
   "metadata": {},
   "source": [
    "# Object-Oriented-Programming (OOP)"
   ]
  },
  {
   "cell_type": "markdown",
   "metadata": {},
   "source": [
    "## Tasks Today:\n",
    "\n",
    "   \n",
    "\n",
    "1) <b>Creating a Class (Initializing/Declaring)</b> <br>\n",
    "2) <b>Using a Class (Instantiating)</b> <br>\n",
    " &nbsp;&nbsp;&nbsp;&nbsp; a) Creating One Instance <br>\n",
    " &nbsp;&nbsp;&nbsp;&nbsp; b) Creating Multiple Instances <br>\n",
    " &nbsp;&nbsp;&nbsp;&nbsp; c) In-Class Exercise #1 - Create a Class 'Car' and instantiate three different makes of cars <br>\n",
    "3) <b>The \\__init\\__() Method</b> <br>\n",
    " &nbsp;&nbsp;&nbsp;&nbsp; a) The 'self' Attribute <br>\n",
    "4) <b>Class Attributes</b> <br>\n",
    " &nbsp;&nbsp;&nbsp;&nbsp; a) Initializing Attributes <br>\n",
    " &nbsp;&nbsp;&nbsp;&nbsp; b) Setting an Attribute Outside of the \\__init\\__() Method <br>\n",
    " &nbsp;&nbsp;&nbsp;&nbsp; c) Setting Defaults for Attributes <br>\n",
    " &nbsp;&nbsp;&nbsp;&nbsp; d) Accessing Class Attributes <br>\n",
    " &nbsp;&nbsp;&nbsp;&nbsp; e) Changing Class Attributes <br>\n",
    " &nbsp;&nbsp;&nbsp;&nbsp; f) In-Class Exercise #2 - Add a color and wheels attribute to your 'Car' class <br>\n",
    "5) <b>Class Methods</b> <br>\n",
    " &nbsp;&nbsp;&nbsp;&nbsp; a) Creating <br>\n",
    " &nbsp;&nbsp;&nbsp;&nbsp; b) Calling <br>\n",
    " &nbsp;&nbsp;&nbsp;&nbsp; c) Modifying an Attribute's Value Through a Method <br>\n",
    " &nbsp;&nbsp;&nbsp;&nbsp; d) Incrementing an Attribute's Value Through a Method <br>\n",
    " &nbsp;&nbsp;&nbsp;&nbsp; e) In-Class Exercise #3 - Add a method that prints the cars color and wheel number, then call them <br>\n",
    "6) <b>Inheritance</b> <br>\n",
    " &nbsp;&nbsp;&nbsp;&nbsp; a) Syntax for Inheriting from a Parent Class <br>\n",
    " &nbsp;&nbsp;&nbsp;&nbsp; b) The \\__init\\__() Method for a Child Class (super()) <br>\n",
    " &nbsp;&nbsp;&nbsp;&nbsp; c) Defining Attributes and Methods for the Child Class <br>\n",
    " &nbsp;&nbsp;&nbsp;&nbsp; d) Method Overriding <br>\n",
    " &nbsp;&nbsp;&nbsp;&nbsp; e) In-Class Exercise #4 - Create a class 'Ford' that inherits from 'Car' class and initialize it as a Blue Ford Explorer with 4 wheels using the super() method <br>\n",
    "7) <b>Classes as Attributes</b> <br>\n",
    "8) <b>Exercises</b> <br>\n",
    " &nbsp;&nbsp;&nbsp;&nbsp; a) Exercise #1 - Turn the shopping cart program from last week into an object-oriented program <br>"
   ]
  },
  {
   "cell_type": "markdown",
   "metadata": {},
   "source": [
    "## Creating a Class (Initializing/Declaring)\n",
    "<p>When creating a class, function, or even a variable you are initializing that object. Initializing and Declaring occur at the same time in Python, whereas in lower level languages you have to declare an object before initializing it. This is the first step in the process of using a class.</p>"
   ]
  },
  {
   "cell_type": "code",
   "execution_count": null,
   "metadata": {},
   "outputs": [],
   "source": [
    "class Car():\n",
    "    wheels = 4\n",
    "    color = \"blue\"\n",
    "    "
   ]
  },
  {
   "cell_type": "markdown",
   "metadata": {},
   "source": [
    "## Using a Class (Instantiating)\n",
    "<p>The process of creating a class is called <i>Instantiating</i>. Each time you create a variable of that type of class, it is referred to as an <i>Instance</i> of that class. This is the second step in the process of using a class.</p>"
   ]
  },
  {
   "cell_type": "markdown",
   "metadata": {},
   "source": [
    "##### Creating One Instance"
   ]
  },
  {
   "cell_type": "code",
   "execution_count": null,
   "metadata": {},
   "outputs": [],
   "source": [
    "ford = Car()\n",
    "print(ford.wheels)\n",
    "print(ford.color)\n"
   ]
  },
  {
   "cell_type": "markdown",
   "metadata": {},
   "source": [
    "##### Creating Multiple Instances"
   ]
  },
  {
   "cell_type": "code",
   "execution_count": null,
   "metadata": {},
   "outputs": [],
   "source": [
    "mazda = Car()\n",
    "honda = Car()\n",
    "chevy = Car()\n",
    "\n",
    "print(mazda.color)\n",
    "print(honda.color)\n",
    "print(chevy.wheels)"
   ]
  },
  {
   "cell_type": "markdown",
   "metadata": {},
   "source": [
    "##### In-Class Exercise #1 - Create a Class 'Car' and Instantiate three different makes of cars"
   ]
  },
  {
   "cell_type": "code",
   "execution_count": null,
   "metadata": {},
   "outputs": [],
   "source": [
    "class Car():\n",
    "    type_ = \"sedan\"\n",
    "    color = \"red\"\n",
    "    \n",
    "subaru = Car()\n",
    "mitsubishi = Car()\n",
    "toyota = Car()\n",
    "\n",
    "print(subaru.type_)\n",
    "print(mitsubishi.color)\n",
    "print(toyota.type_)\n"
   ]
  },
  {
   "cell_type": "markdown",
   "metadata": {},
   "source": [
    "## The \\__init\\__() Method <br>\n",
    "<p>This method is used in almost every created class, and called only once upon the creation of the class instance. This method will initialize all variables needed for the object.</p>"
   ]
  },
  {
   "cell_type": "code",
   "execution_count": null,
   "metadata": {},
   "outputs": [],
   "source": [
    "class Car():\n",
    "    def __init__(self, wheels, color, doors):\n",
    "        self.wheels = wheels\n",
    "        self.color = color\n",
    "        self.doors = doors\n",
    "\n",
    "mazda = Car(4, \"blue\", 2)\n",
    "print(mazda.wheels)\n",
    "print(mazda.color)\n",
    "print(mazda.doors)\n",
    "        \n",
    "honda = Car(4, \"red\", 5)\n",
    "print(honda.color)\n",
    "print(honda.doors)\n",
    "\n",
    "yamaha = Car(2, \"black\", 0)\n",
    "print(yamaha.color)\n",
    "print(yamaha.doors)\n"
   ]
  },
  {
   "cell_type": "markdown",
   "metadata": {},
   "source": [
    "##### The 'self' Attribute <br>\n",
    "<p>This attribute is required to keep track of specific instance's attributes. Without the self attribute, the program would not know how to reference or keep track of an instance's attributes.</p>"
   ]
  },
  {
   "cell_type": "code",
   "execution_count": null,
   "metadata": {},
   "outputs": [],
   "source": [
    "class Pokemon():\n",
    "    def __init__(self, name, type_):\n",
    "        # self is going to reference back to the object/instance of our class\n",
    "        self.name = name\n",
    "        self.type = type_\n",
    "\n",
    "    def print_info(self):\n",
    "        print(f\"This is {self.name}.  It is a {self.type}.\")\n",
    "    \n",
    "charmander = Pokemon(\"Chamrmander\", \"fire\")\n",
    "squirtle = Pokemon(\"Squirtle\", \"water\")\n",
    "\n",
    "print(charmander.name)\n",
    "print(squirtle.name)\n",
    "\n",
    "charmander.print_info()\n",
    "squirtle.print_info()\n",
    "        "
   ]
  },
  {
   "cell_type": "markdown",
   "metadata": {},
   "source": [
    "## Class Attributes <br>\n",
    "<p>While variables are inside of a class, they are referred to as attributes and not variables. When someone says 'attribute' you know they're speaking about a class. Attributes can be initialized through the init method, or outside of it.</p>"
   ]
  },
  {
   "cell_type": "markdown",
   "metadata": {},
   "source": [
    "##### Initializing Attributes"
   ]
  },
  {
   "cell_type": "code",
   "execution_count": null,
   "metadata": {},
   "outputs": [],
   "source": [
    "class Pokemon():\n",
    "    def __init__(self, name, type_):\n",
    "        # self is going to reference back to the object/instance of our class\n",
    "        self.name = name\n",
    "        self.type = type_\n",
    "\n",
    "    def print_info(self):\n",
    "        print(f\"This is {self.name}.  It is a {self.type}.\")\n",
    "        \n",
    "        \n",
    "bulbasaur = Pokemon(\"Bulbasaur\", \"grass\")\n",
    "\n"
   ]
  },
  {
   "cell_type": "markdown",
   "metadata": {},
   "source": [
    "##### Accessing Class Attributes"
   ]
  },
  {
   "cell_type": "code",
   "execution_count": null,
   "metadata": {
    "scrolled": true
   },
   "outputs": [],
   "source": [
    "print(bulbasaur.name)\n",
    "print(bulbasaur.type)\n",
    "\n",
    "#__dict__\n",
    "print(bulbasaur.__dict__)\n",
    "# print(dir(bulbasaur))\n"
   ]
  },
  {
   "cell_type": "markdown",
   "metadata": {},
   "source": [
    "##### Setting Defaults for Attributes"
   ]
  },
  {
   "cell_type": "code",
   "execution_count": null,
   "metadata": {},
   "outputs": [],
   "source": [
    "class Car():\n",
    "    def __init__(self, wheels):\n",
    "        self.wheels = wheels\n",
    "        self.color = \"Blue\"\n",
    "        \n",
    "honda = Car(4)\n",
    "print(honda.wheels)\n",
    "print(honda.color)\n",
    "        "
   ]
  },
  {
   "cell_type": "code",
   "execution_count": null,
   "metadata": {},
   "outputs": [],
   "source": [
    "class Car():\n",
    "    def __init__(self, wheels, color = \"Red\"):\n",
    "        self.wheels = wheels\n",
    "        self.color = color\n",
    "ford = Car(4)\n",
    "print(ford.wheels)\n",
    "print(ford.color)\n",
    "\n",
    "mazda = Car(4, \"Yellow\")\n",
    "\n",
    "print(mazda.color)\n",
    "        "
   ]
  },
  {
   "cell_type": "markdown",
   "metadata": {},
   "source": [
    "##### Changing Class Attributes <br>\n",
    "<p>Keep in mind there are global class attributes and then there are attributes only available to each class instance which won't effect other classes.</p>"
   ]
  },
  {
   "cell_type": "code",
   "execution_count": null,
   "metadata": {},
   "outputs": [],
   "source": [
    "class Car():\n",
    "    def __init__(self, wheels):\n",
    "        self.wheels = wheels\n",
    "        self.color = \"Blue\"\n",
    "        \n",
    "honda = Car(4)\n",
    "print(honda.wheels)\n",
    "print(honda.color)\n",
    "\n",
    "# subaru = Car(4, \"orange\") <---- gives type error for too many arguments\n",
    "\n",
    "subaru = Car(4)\n",
    "print(f\"Before attribute change {subaru.color}\")\n",
    "subaru.color = 'orange'\n",
    "print(f\"After attribute change {subaru.color}\")\n",
    "print(subaru.wheels)\n",
    "subaru.wheels = 6\n",
    "print(subaru.wheels)\n"
   ]
  },
  {
   "cell_type": "code",
   "execution_count": null,
   "metadata": {},
   "outputs": [],
   "source": []
  },
  {
   "cell_type": "markdown",
   "metadata": {},
   "source": [
    "##### In-Class Exercise #2 - Add two new attributes to your 'Car' class then print out two different instances with different doors and seats. Then take that bad boy to the shop and change those attributes. Either with an input or just by changing them"
   ]
  },
  {
   "cell_type": "code",
   "execution_count": null,
   "metadata": {},
   "outputs": [],
   "source": [
    "class Car():\n",
    "    def __init__(self, wheels=4, color=\"Red\", engine=\"V8\", transmission=\"automatic\"):\n",
    "        self.wheels = wheels\n",
    "        self.color = color\n",
    "        self.engine = engine\n",
    "        self.transmission = transmission\n",
    "      \n",
    "ford = Car()\n",
    "chevy = Car()\n",
    "print(ford.engine)\n",
    "print(chevy.transmission)\n",
    "ford.engine = \"V6\"\n",
    "chevy.transmission = \"Manual\"\n",
    "print(ford.engine)\n",
    "print(chevy.transmission)\n",
    "        \n",
    "        "
   ]
  },
  {
   "cell_type": "markdown",
   "metadata": {},
   "source": [
    "## Class Methods <br>\n",
    "<p>While inside of a class, functions are referred to as 'methods'. If you hear someone mention methods, they're speaking about classes. Methods are essentially functions, but only callable on the instances of a class.</p>"
   ]
  },
  {
   "cell_type": "markdown",
   "metadata": {},
   "source": [
    "##### Creating"
   ]
  },
  {
   "cell_type": "code",
   "execution_count": null,
   "metadata": {},
   "outputs": [],
   "source": [
    "class Bus():\n",
    "    \"\"\"\n",
    "    The Bus will have doors, seats, seats available, color, and a bus driver\n",
    "    Attributes for the bus\n",
    "    -doors: integer\n",
    "    -seats: integer\n",
    "    -seats_available: integer\n",
    "    -color: string\n",
    "    -bus_driver: string\n",
    "    \n",
    "    \"\"\"\n",
    "    \n",
    "    def __init__(self, doors, seats, seats_available, color, bus_driver):\n",
    "        self.doors = doors\n",
    "        self.seats = seats\n",
    "        self.seats_available = seats_available\n",
    "        self.color = color\n",
    "        self.bus_driver = bus_driver\n",
    "        \n",
    "    #decrement the number of seats available   \n",
    "    def load_passengers(self):\n",
    "        if self.seats_available <= 0:\n",
    "            print(\"This bus is full!  You can't take anymore passengers! :(\")\n",
    "            if self.seats_available < 0:\n",
    "                print(f\"You left {abs(self.seats_available)} by the road!\")\n",
    "                self.seats_available = 0\n",
    "        else:\n",
    "            passengers = int(input(\"How many passengers are getting on? \"))\n",
    "            self.seats_available -= passengers\n",
    "            if self.seats_available < 0:\n",
    "                print(f\"You have left {abs(self.seats_available)} by the road!\")\n",
    "                self.seats_available = 0\n",
    "                print(f\"{passengers} passengers have boarded.  There are {self.seats_available} seats left on the bus!\")\n",
    "                \n",
    "                \n",
    "    #increment the number of seats available\n",
    "    def unload_passengers(self):\n",
    "        if self.seats_available >= self.seats:\n",
    "            print(\"There is no one left to get off the bus!\")\n",
    "        else:\n",
    "            unload = int(input(\"How many passengers are getting off the bus? \"))\n",
    "            self.seats_available += unload\n",
    "            if self.seats_available >= self.seats:\n",
    "                self.seat_available = self.seats\n",
    "                \n",
    "            print(f\"{unload} passengers have left the bus!  There are {self.seats_available} seats left.\")\n",
    "    \n",
    "    #change the bus driver attribute\n",
    "    def change_driver(self):\n",
    "        change = input(\"Who is replacing you? \")\n",
    "        self.bus_driver = change\n",
    "        print(f\"The new bus driver is {self.bus_driver}.  Be sure to thank them!\")\n",
    "        \n",
    "    #display available seats\n",
    "    def check_seats(self):\n",
    "        print(f\"There are {self.seats_available} seats available.\")\n",
    "        \n",
    "    #display bus color\n",
    "    def admire_bus(self):\n",
    "        print(f\"Would you just look at that beautiful {self.color} bus!  WOULD YA JUST LOOK AT IT!\")\n",
    "            \n",
    "            \n"
   ]
  },
  {
   "cell_type": "markdown",
   "metadata": {},
   "source": [
    "##### Calling"
   ]
  },
  {
   "cell_type": "code",
   "execution_count": null,
   "metadata": {},
   "outputs": [],
   "source": [
    "#instance_variable.method()\n",
    "def run():\n",
    "    ryan_bus = Bus(2, 90, 45, \"yellow\", \"Ryan\")\n",
    "    \n",
    "    while True:\n",
    "        response = input(\"What would you like to do?  Load/Unload/Change Driver/Check Seats/Admire/Quit? \").lower()\n",
    "        if response == \"quit\":\n",
    "            print(\"OH NO!  There are still passengers to be picked up!  Please don't abandon them!\")\n",
    "            break\n",
    "            \n",
    "        elif response == \"load\":\n",
    "            ryan_bus.load_passengers()\n",
    "            \n",
    "        elif response == \"unload\":\n",
    "            ryan_bus.unload_passengers()\n",
    "            \n",
    "        elif response == \"change driver\":\n",
    "            ryan_bus.change_driver()\n",
    "            \n",
    "        elif response == \"check seats\":\n",
    "            ryan_bus.check_seats()\n",
    "            \n",
    "        elif response == \"admire\":\n",
    "            ryan_bus.admire_bus()\n",
    "            \n",
    "        else:\n",
    "            print(\"That is not a valid response.  Please pick from the list!\")\n",
    "            \n",
    "run()\n"
   ]
  },
  {
   "cell_type": "markdown",
   "metadata": {},
   "source": [
    "##### Modifying an Attribute's Value Through a Method"
   ]
  },
  {
   "cell_type": "code",
   "execution_count": null,
   "metadata": {},
   "outputs": [],
   "source": [
    "# see above\n",
    "# load_passengers()\n",
    "# unload_passengers()\n",
    "# change_driver()"
   ]
  },
  {
   "cell_type": "markdown",
   "metadata": {},
   "source": [
    "##### Incrementing an Attribute's Value Through a Method"
   ]
  },
  {
   "cell_type": "code",
   "execution_count": null,
   "metadata": {},
   "outputs": [],
   "source": [
    "#unload_passengers()"
   ]
  },
  {
   "cell_type": "markdown",
   "metadata": {},
   "source": [
    "##### In-Class Exercise #3 - Add a method that takes in three parameters of year, doors and seats and prints out a formatted print statement with make, model, year, seats, and doors"
   ]
  },
  {
   "cell_type": "code",
   "execution_count": null,
   "metadata": {},
   "outputs": [],
   "source": [
    "# Create class with 2 paramters inside of the __init__ which are make and model, more if you'd like\n",
    "\n",
    "# Create two methods for your class\n",
    "\n",
    "# Create a method that alters an attribute for your class\n",
    "\n",
    "# Display method that prints information about the vehicle\n",
    "\n",
    "# Output: This car is from 2019 and is a Ford Expolorer and has 4 doors and 5 seats\n",
    "\n",
    "# reminder in order to call class methods object.method()\n",
    "\n",
    "class Pokedex():\n",
    "    def __init__(self, nickname, species, type_):\n",
    "        self.nickname = nickname\n",
    "        self.species = species\n",
    "        self.type_ = type_\n",
    "    \n",
    "    def cry(self):\n",
    "        print(f\"{self.species.title()}, {self.species}!\")\n",
    "        \n",
    "    def display_Pokemon(self):\n",
    "        print(f\"Your Pokemon {self.nickname} is a {self.type_} type {self.species}.\")\n",
    "              \n",
    "    def name_Rater(self):\n",
    "        new_name = input(\"What would you like your Pokemon's new nickname to be? \")\n",
    "        self.nickname = new_name\n",
    "        print(f\"Your Pokemon's new nickname is {self.nickname}\")\n",
    "\n",
    "#example \n",
    "charmander = Pokedex(\"Disco Inferno\", \"Charmander\", \"fire\")\n",
    "        \n",
    "charmander.cry()\n",
    "charmander.display_Pokemon()\n",
    "charmander.name_Rater()\n",
    "\n",
    "charmander.display_Pokemon()\n",
    "\n"
   ]
  },
  {
   "cell_type": "code",
   "execution_count": null,
   "metadata": {},
   "outputs": [],
   "source": [
    "class Car():\n",
    "    def __init__(self, model, year, doors, seats):\n",
    "        self.model = model\n",
    "        self.year = year\n",
    "        self.doors = doors\n",
    "        self.seats = seats\n",
    "        \n",
    "    def add_seats(self):\n",
    "        seats = int(input(\"How many seats would you like to add? \"))\n",
    "        self.seats += seats\n",
    "        \n",
    "    def remove_seats(self):\n",
    "        seats = int(input(\"How many seats would you like to remove?\"))\n",
    "        self.seats -= seats\n",
    "    \n",
    "mazda = Car(\"Mazda\", 2020, 4, 5)\n",
    "\n",
    "print(mazda.seats)\n",
    "mazda.add_seats()\n",
    "print(mazda.seats)\n",
    "mazda.remove_seats()\n",
    "print(mazda.seats)"
   ]
  },
  {
   "cell_type": "markdown",
   "metadata": {},
   "source": [
    "## Inheritance <br>\n",
    "<p>You can create a child-parent relationship between two classes by using inheritance. What this allows you to do is have overriding methods, but also inherit traits from the parent class. Think of it as an actual parent and child, the child will inherit the parent's genes, as will the classes in OOP</p>"
   ]
  },
  {
   "cell_type": "markdown",
   "metadata": {},
   "source": [
    "##### Syntax for Inheriting from a Parent Class"
   ]
  },
  {
   "cell_type": "code",
   "execution_count": null,
   "metadata": {},
   "outputs": [],
   "source": [
    "# create a parent class\n",
    "class Animal():\n",
    "    acceleration = 9.8\n",
    "    def __init__(self, name, species, legs = 4):\n",
    "        self.name = name\n",
    "        self.species = species\n",
    "        self.legs = legs\n",
    "        \n",
    "    #generic parent method\n",
    "    def make_sound(self):\n",
    "        print(\"WAAAAAHHHHHHHHH\")\n",
    "        \n",
    "# create child class that inherits from Animal\n",
    "class Dog(Animal): #<-- inherited parent class goes in parenthesis\n",
    "    speed = 15\n",
    "    def __init__(self, name, color, species = \"Dog\", legs = 4):\n",
    "        super().__init__(name, species, legs) # passes over attributes from the parent class\n",
    "        self.color = color # attribute unique to the child class\n",
    "        \n",
    "    def print_info(self):\n",
    "        print(f\"{self.name} runs at {self.speed} mph and accelerates at {self.acceleration} mps^2\")\n",
    "        \n",
    "# creation of the grandchild class\n",
    "class Mutt(Dog):\n",
    "    hypoallergenic = True\n",
    "    \n",
    "    #access the animal init through the dog init\n",
    "    def __init__(self, name, species, eye_color, color, legs):\n",
    "        Dog.__init__(self, name, species, legs)\n",
    "        self.eye_color = eye_color # unique to the grandchild class\n",
    "        \n",
    "        \n",
    "    def make_sound(self): # override the animal make_sound method\n",
    "        print(\"rooooooo\")\n",
    "        \n",
    "        \n"
   ]
  },
  {
   "cell_type": "code",
   "execution_count": null,
   "metadata": {
    "scrolled": true
   },
   "outputs": [],
   "source": [
    "elephant = Animal(\"Jimbo\", \"elephant\")\n",
    "print(elephant.name)\n",
    "elephant.make_sound()\n",
    "print(elephant.legs)\n"
   ]
  },
  {
   "cell_type": "code",
   "execution_count": null,
   "metadata": {
    "scrolled": true
   },
   "outputs": [],
   "source": [
    "thea = Dog(\"Thea\", \"Pit\", \"Brown, Brown, White\")\n",
    "print(thea.name)\n",
    "thea.make_sound()\n",
    "thea.print_info()\n",
    "\n"
   ]
  },
  {
   "cell_type": "code",
   "execution_count": null,
   "metadata": {},
   "outputs": [],
   "source": [
    "orion = Mutt(\"Orion\", \"Mutt\", \"brown\", \"black and white\", 4)\n",
    "print(orion.hypoallergenic)\n",
    "orion.hypoallergenic = False\n",
    "print(orion.hypoallergenic)\n",
    "orion.make_sound()\n",
    "print(orion.eye_color)\n"
   ]
  },
  {
   "cell_type": "markdown",
   "metadata": {},
   "source": [
    "##### The \\__init\\__() Method for a Child Class - super()"
   ]
  },
  {
   "cell_type": "code",
   "execution_count": null,
   "metadata": {
    "scrolled": true
   },
   "outputs": [],
   "source": [
    "#see dog class"
   ]
  },
  {
   "cell_type": "markdown",
   "metadata": {},
   "source": [
    "##### Defining Attributes and Methods for the Child Class"
   ]
  },
  {
   "cell_type": "code",
   "execution_count": null,
   "metadata": {},
   "outputs": [],
   "source": [
    "# See Above\n",
    "# animal class and dog class"
   ]
  },
  {
   "cell_type": "markdown",
   "metadata": {},
   "source": [
    "##### Method Overriding"
   ]
  },
  {
   "cell_type": "code",
   "execution_count": null,
   "metadata": {},
   "outputs": [],
   "source": [
    "# See Above\n",
    "# mutt class"
   ]
  },
  {
   "cell_type": "markdown",
   "metadata": {},
   "source": [
    "## Classes as Attributes <br>\n",
    "<p>Classes can also be used as attributes within another class. This is useful in situations where you need to keep variables locally stored, instead of globally stored.</p>"
   ]
  },
  {
   "cell_type": "code",
   "execution_count": null,
   "metadata": {},
   "outputs": [],
   "source": [
    "class Battery():\n",
    "    VOLTZ = 7.8\n",
    "    \n",
    "    def __init__(self, cells):\n",
    "        self.cells = cells\n",
    "        \n",
    "class Car():\n",
    "    def __init__(self, make, model, year, battery):\n",
    "        self.make = make\n",
    "        self.model = model\n",
    "        self.year = year\n",
    "        self.battery = battery\n",
    "        \n",
    "    def print_info(self):\n",
    "        print(f\"{self.year} {self.make} {self.model} {self.battery.cells}\")\n",
    "        \n",
    "batt = Battery(20)\n",
    "\n",
    "porsche = Car(\"Porsche\", \"911 turbo\", 2023, batt)\n",
    "\n",
    "porsche.print_info()\n",
    "        "
   ]
  },
  {
   "cell_type": "markdown",
   "metadata": {},
   "source": [
    "<b>Generators in classes</b>"
   ]
  },
  {
   "cell_type": "code",
   "execution_count": null,
   "metadata": {},
   "outputs": [],
   "source": [
    "class Movie():\n",
    "    def __init__(self):\n",
    "        self.genres = [\"spooky\", \"adventure\", \"drama\", \"horror\", \"comedy\", \"action\", \"romance\"]\n",
    "        self.generator_object = self.yield_genres()\n",
    "        \n",
    "    def yield_genres(self):\n",
    "        for genre in self.genres:\n",
    "            yield genre\n",
    "            \n",
    "    def show_genres(self):\n",
    "        try:\n",
    "            return next(self.generator_object)\n",
    "        except:\n",
    "            print(\"no more genres\")\n",
    "            \n",
    "my_movie = Movie()\n",
    "    \n",
    "        "
   ]
  },
  {
   "cell_type": "code",
   "execution_count": null,
   "metadata": {},
   "outputs": [],
   "source": [
    "my_movie.show_genres()"
   ]
  },
  {
   "cell_type": "markdown",
   "metadata": {},
   "source": [
    "# Exercises"
   ]
  },
  {
   "cell_type": "markdown",
   "metadata": {},
   "source": [
    "### Exercise 1 - Turn the shopping cart program from last week into an object-oriented program\n",
    "\n",
    "The comments in the cell below are there as a guide for thinking about the problem. However, if you feel a different way is best for you and your own thought process, please do what feels best for you by all means."
   ]
  },
  {
   "cell_type": "code",
   "execution_count": null,
   "metadata": {},
   "outputs": [],
   "source": [
    "blank_dict = {} \n",
    "blank_list = []\n",
    "\n",
    "class Cart():\n",
    "    \n",
    "    def __init__(self):\n",
    "        self\n",
    "        \n",
    "    def quit_items(self):\n",
    "        if blank_list == []:\n",
    "            print(\"Your cart is empty.\")\n",
    "        else:\n",
    "            print(f\"You ended with {blank_dict}\")\n",
    "        \n",
    "    def add_items(self):\n",
    "        self.add = input(\"What would you like to put in your cart? \").title()\n",
    "        blank_list.append(self.add)\n",
    "        blank_dict[\"Items\"] = blank_list\n",
    "        \n",
    "    def remove_items(self):\n",
    "        if blank_list == []:\n",
    "            print(\"Sorry, your cart is already empty.\")\n",
    "        else:\n",
    "            self.remove = input(\"What would you like to remove from your cart? \").title()\n",
    "            if self.remove in blank_list:\n",
    "                blank_list.remove(self.remove)\n",
    "                print(f\"You have removed {self.remove} from your cart.\")\n",
    "            elif self.remove not in blank_list:\n",
    "                print(f\"Sorry, {self.remove} is not in your cart.  Try removing something else\")\n",
    "        \n",
    "    def check_items(self):\n",
    "        if blank_list == []:\n",
    "            print(\"Cart Contents: None\")\n",
    "        else:\n",
    "            print(blank_dict)\n",
    "        \n",
    "    \n",
    "   \n",
    "\n",
    "def run():\n",
    "    \n",
    "    my_func = Cart()\n",
    "    \n",
    "    while True:\n",
    "        response = input(\"Would you like to add, remove, or check the contents of your cart.\\nYou can type 'quit' to leave: \").lower()\n",
    "        if response == \"quit\":\n",
    "            my_func.quit_items()\n",
    "            break\n",
    "        elif response == \"add\":\n",
    "            my_func.add_items()\n",
    "        elif response == \"remove\":\n",
    "            my_func.remove_items()\n",
    "        elif response == \"check\":\n",
    "            my_func.check_items()\n",
    "        else:\n",
    "            print(\"Sorry, that is not a valid input.\")\n",
    "            \n",
    "            \n",
    "run()\n"
   ]
  },
  {
   "cell_type": "markdown",
   "metadata": {},
   "source": [
    "### Exercise 2 - Write a Python class which has two methods get_String and print_String. get_String accept a string from the user and print_String print the string in upper case"
   ]
  },
  {
   "cell_type": "code",
   "execution_count": null,
   "metadata": {},
   "outputs": [],
   "source": [
    "class Stringer():\n",
    "    def __init__(self):\n",
    "        self\n",
    "    \n",
    "    def get_String(self):\n",
    "        take_it = input(\"Tell me something and I'll print it in uppercase: \").upper()\n",
    "        self.in_string = take_it\n",
    "    \n",
    "    def print_String(self):\n",
    "        print(f\"{self.in_string}\")\n",
    "        \n",
    "        \n",
    "my_string = Stringer()\n",
    "my_string.get_String()\n",
    "my_string.print_String()\n",
    "\n",
    "\n",
    "    "
   ]
  }
 ],
 "metadata": {
  "kernelspec": {
   "display_name": "Python 3 (ipykernel)",
   "language": "python",
   "name": "python3"
  },
  "language_info": {
   "codemirror_mode": {
    "name": "ipython",
    "version": 3
   },
   "file_extension": ".py",
   "mimetype": "text/x-python",
   "name": "python",
   "nbconvert_exporter": "python",
   "pygments_lexer": "ipython3",
   "version": "3.11.3"
  }
 },
 "nbformat": 4,
 "nbformat_minor": 2
}
